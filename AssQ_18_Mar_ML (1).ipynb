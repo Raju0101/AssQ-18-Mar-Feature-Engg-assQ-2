{
 "cells": [
  {
   "cell_type": "markdown",
   "id": "dd12369a-0343-40ba-b84b-2630127d183f",
   "metadata": {},
   "source": [
    "# Assignment: 18-March, Feature Engineering Assq-2 "
   ]
  },
  {
   "cell_type": "code",
   "execution_count": 1,
   "id": "d62b4d1d-0bc9-4761-a83a-9ee453f5e94a",
   "metadata": {},
   "outputs": [],
   "source": [
    "# Q1. What is the Filter method in feature selection, and how does it work?"
   ]
  },
  {
   "cell_type": "code",
   "execution_count": null,
   "id": "dd71fa71-d207-440a-878e-f309849ed3db",
   "metadata": {},
   "outputs": [],
   "source": [
    "# Filter methods measure the relevance of features by their correlation with dependent variable.\n",
    "# Feature Selection is the method of reducing the input variable to our model by using \n",
    "# only relevant data and getting rid of noise in data. It is the process of automatically \n",
    "# choosing relevant features for our machine learning model based\n",
    "# on the type of problem we are trying to solve.\n",
    "\n",
    "# Filter Method for Feature selection-\n",
    "# variance: removing constant and quasi constant features.\n",
    "# chi-square: used for classification. ...\n",
    "# correlation coefficients: removes duplicate features.\n",
    "# Information gain or mutual information: assess the dependency of the independent \n",
    "# variable in predicting the target variable."
   ]
  },
  {
   "cell_type": "code",
   "execution_count": null,
   "id": "2186bab6-447a-4dc8-a4c5-b5b0e6cf825e",
   "metadata": {},
   "outputs": [],
   "source": []
  },
  {
   "cell_type": "code",
   "execution_count": 2,
   "id": "84890c00-8b41-4304-9086-3848a3eb68cc",
   "metadata": {},
   "outputs": [],
   "source": [
    "# Q2. How does the Wrapper method differ from the Filter method in feature selection?"
   ]
  },
  {
   "cell_type": "code",
   "execution_count": null,
   "id": "1df4e54e-84b0-4e5d-8fcd-67d471a7ab49",
   "metadata": {},
   "outputs": [],
   "source": [
    "#  Wrapper method - wrapper methods measure the usefulness of a subset of feature by actually training a model on it.\n",
    "\n",
    "# The main differences between the filter and wrapper methods for feature selection are: \n",
    "# Filter methods measure the relevance of features by their correlation with dependent variable while \n",
    "# wrapper methods measure the usefulness of a subset of feature by actually training a model on it.\n",
    "\n",
    "# Filter methods measure the relevance of features by their correlation with dependent variable .\n",
    "# Filter methods are much faster compared to wrapper methods as they do not involve training the models."
   ]
  },
  {
   "cell_type": "code",
   "execution_count": null,
   "id": "3dd76c3b-1543-437a-a1f1-f791e0c0bf0c",
   "metadata": {},
   "outputs": [],
   "source": []
  },
  {
   "cell_type": "code",
   "execution_count": 3,
   "id": "2f33c3c5-3ad1-4f55-9ab6-d964ee81d258",
   "metadata": {},
   "outputs": [],
   "source": [
    "# Q3. What are some common techniques used in Embedded feature selection methods?"
   ]
  },
  {
   "cell_type": "code",
   "execution_count": null,
   "id": "771e7798-c6af-4175-9ed1-9e99f1906ec7",
   "metadata": {},
   "outputs": [],
   "source": [
    "# LASSO and RIDGE regression are some common techniques used in Embedded feature selection methods.\n",
    "\n",
    "# Embedded methods combine the qualities' of filter and wrapper methods.\n",
    "# It's implemented by algorithms that have their own built-in feature selection methods.\n",
    "# Some of the most popular examples of these methods are LASSO and RIDGE regression which have\n",
    "# inbuilt penalization functions to reduce overfitting."
   ]
  },
  {
   "cell_type": "code",
   "execution_count": null,
   "id": "00a42c93-460a-4801-9517-135fc625f895",
   "metadata": {},
   "outputs": [],
   "source": []
  },
  {
   "cell_type": "code",
   "execution_count": 4,
   "id": "4d456d4d-a961-48fe-bcb0-62c3bb42a4d6",
   "metadata": {},
   "outputs": [],
   "source": [
    "# Q4. What are some drawbacks of using the Filter method for feature selection?"
   ]
  },
  {
   "cell_type": "code",
   "execution_count": null,
   "id": "29523be2-5a09-42b5-98ed-a1534cbfeb02",
   "metadata": {},
   "outputs": [],
   "source": [
    "# The common disadvantage of filter methods is that they ignore the interaction with the classifier\n",
    "# and each feature is considered independently thus ignoring feature dependencies In addition,\n",
    "# it is not clear how to determine the threshold point for rankings to select only the required \n",
    "# features and exclude noise.\n",
    "\n",
    "# Disadvantages of Filtration -\n",
    "# Filters can only work on liquids and gasses.\n",
    "# Autoclaving is usually cheaper than filtration since filters are expensive to replace, especially nano-filters.\n",
    "# Glass filters are very brittle and can break easily.\n",
    "# Membrane filters rupture easily."
   ]
  },
  {
   "cell_type": "code",
   "execution_count": null,
   "id": "db4c80f0-a8fe-4271-9beb-12eb94c4bda5",
   "metadata": {},
   "outputs": [],
   "source": []
  },
  {
   "cell_type": "code",
   "execution_count": 5,
   "id": "fa3c5ef4-3805-462d-a1dd-5117ca0086e2",
   "metadata": {},
   "outputs": [],
   "source": [
    "# Q5. In which situations would you prefer using the Filter method over the Wrapper method for feature selection?"
   ]
  },
  {
   "cell_type": "code",
   "execution_count": null,
   "id": "b9138d87-05aa-4b05-b0cf-ab0d2a918a9f",
   "metadata": {},
   "outputs": [],
   "source": [
    "# Filter methods use statistical methods for evaluation of a subset of features \n",
    "# while wrapper methods use cross validation.\n",
    "# Filter methods are much faster compared to wrapper methods as they do not involve training the models.\n",
    "# On the other hand, wrapper methods are computationally very expensive as well. Filter methods use \n",
    "# statistical methods for evaluation of a subset of features while wrapper methods use cross validation.\n",
    "\n",
    "#  There are several disadvantages with WFS such as computationally intensive, discriminative power,\n",
    "# lower shorter training times, classifier dependent selection, and higher risk of over-fitting than\n",
    "# deterministic algorithms"
   ]
  },
  {
   "cell_type": "code",
   "execution_count": null,
   "id": "892e89d2-db55-4644-956b-717c7df3d05f",
   "metadata": {},
   "outputs": [],
   "source": []
  },
  {
   "cell_type": "code",
   "execution_count": 6,
   "id": "37f35d98-70a9-44ae-91b8-9892e42f9f93",
   "metadata": {},
   "outputs": [],
   "source": [
    "# Q6. In a telecom company, you are working on a project to develop a predictive model for customer churn. \n",
    "# You are unsure of which features to include in the model because the dataset contains several different \n",
    "# ones. Describe how you would choose the most pertinent attributes for the model using the Filter Method."
   ]
  },
  {
   "cell_type": "code",
   "execution_count": null,
   "id": "87737a92-9a42-458d-9464-70fc94ee052a",
   "metadata": {},
   "outputs": [],
   "source": [
    "# Random Forest can yield good results with less data, so it's one of the best classification \n",
    "# models for churn prediction.\n",
    "\n",
    "#  Logistic Regression is one of the most used machine learning algorithm and mainly used when \n",
    "# the dependent variable (here churn 1 or churn 0) is categorical. The independent variables in contrary \n",
    "# can be categorical or numerical.\n",
    "\n",
    "# KNN is a simple algorithm. When a new customer is presented, the algorithm looks through the database \n",
    "# for customers who are most similar to the target customer. It then predicts if the customer would churn \n",
    "# based on whether those similar customers churned or not."
   ]
  },
  {
   "cell_type": "code",
   "execution_count": null,
   "id": "f12e1121-cd26-446c-b853-2c186ae5ca8d",
   "metadata": {},
   "outputs": [],
   "source": []
  },
  {
   "cell_type": "code",
   "execution_count": 7,
   "id": "e9fff53a-a83a-4da2-bd24-cdec7324e50a",
   "metadata": {},
   "outputs": [],
   "source": [
    "# Q7. You are working on a project to predict the outcome of a soccer match. You have a large dataset with \n",
    "# many features, including player statistics and team rankings. Explain how you would use the Embedded \n",
    "# method to select the most relevant features for the model."
   ]
  },
  {
   "cell_type": "code",
   "execution_count": null,
   "id": "52602259-a093-48b9-be86-0e852c42b716",
   "metadata": {},
   "outputs": [],
   "source": [
    "# One of the best ways to predict football matches is by using data and statistics. \n",
    "# You can use data to find patterns in how teams play. \n",
    "# For example- \n",
    "# you can look at how a team has performed in the past against similar opponents. \n",
    "# You can also look at a team's home and away records.\n",
    "\n",
    "# The main objective of this project is to explore different Machine Learning techniques to predict\n",
    "# the score and outcome of football matches\n",
    "\n",
    "# Many techniques to predict the outcome of professional football matches have traditionally used the\n",
    "# number of goals scored by each team as a base measure \n",
    "# for evaluating a team’s performance and estimating future results. However, the number of\n",
    "# goals scored during a match possesses an important random element which leads to\n",
    "# large inconsistencies in many games between a team’s performance and number of\n",
    "# goals scored or conceded.\n",
    "# The main objective of this project is to explore different Machine Learning techniques\n",
    "# to predict the score and outcome of football matches, using in-game match events\n",
    "# rather than the number of goals scored by each team. We will explore different\n",
    "# model design hypotheses and assess our models’ performance against benchmark techniques.\n",
    "# In this project, we developed an ’expected goals’ metric which helps us evaluate a\n",
    "# team’s performance, instead of using the actual number of goals scored. We combined this metric \n",
    "# with a calculation of a team’s offensive and defensive ratings which\n",
    "# are updated after each game and used to build a classification model predicting the\n",
    "# outcome of future matches, as well as a regression model predicting the score of\n",
    "# future games. Our models’ performance compare favourably to existing traditional\n",
    "# techniques and achieve a similar accuracy to bookmakers’ models."
   ]
  },
  {
   "cell_type": "code",
   "execution_count": null,
   "id": "20d6a8f9-b995-49c0-a583-b38636adcf1a",
   "metadata": {},
   "outputs": [],
   "source": []
  },
  {
   "cell_type": "code",
   "execution_count": 9,
   "id": "1f2ee694-0732-462f-98e8-16662bb39fe8",
   "metadata": {},
   "outputs": [],
   "source": [
    "#Q8. You are working on a project to predict the price of a house based on its features, such as size, location, \n",
    "# and age. You have a limited number of features, and you want to ensure that you select the most important \n",
    "# ones for the model. Explain how you would use the Wrapper method to select the best set of features for the \n",
    "# predictor."
   ]
  },
  {
   "cell_type": "code",
   "execution_count": 10,
   "id": "f2b12c88-ff1a-4df9-9d5a-4533503a233f",
   "metadata": {},
   "outputs": [],
   "source": [
    "# We will go through all the features and see how the columns of each feature is filled.\n",
    "# we will see, is there any null value or not, How important data is. Size and Locations arethe most important\n",
    "# features to pridict the price of the house.\n",
    "# Based on these thing we will desicide the Wrapper method to select the best set of features for the predictor."
   ]
  },
  {
   "cell_type": "code",
   "execution_count": 11,
   "id": "35b483f5-8664-424e-9637-7b0ef8429257",
   "metadata": {},
   "outputs": [
    {
     "data": {
      "text/plain": [
       "10"
      ]
     },
     "execution_count": 11,
     "metadata": {},
     "output_type": "execute_result"
    }
   ],
   "source": [
    "a=10\n",
    "a"
   ]
  },
  {
   "cell_type": "code",
   "execution_count": null,
   "id": "7c439697-5dff-43c3-b8a5-7df76c04ea54",
   "metadata": {},
   "outputs": [],
   "source": []
  }
 ],
 "metadata": {
  "kernelspec": {
   "display_name": "Python 3 (ipykernel)",
   "language": "python",
   "name": "python3"
  },
  "language_info": {
   "codemirror_mode": {
    "name": "ipython",
    "version": 3
   },
   "file_extension": ".py",
   "mimetype": "text/x-python",
   "name": "python",
   "nbconvert_exporter": "python",
   "pygments_lexer": "ipython3",
   "version": "3.10.6"
  }
 },
 "nbformat": 4,
 "nbformat_minor": 5
}
